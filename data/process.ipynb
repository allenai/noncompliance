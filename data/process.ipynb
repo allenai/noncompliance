{
 "cells": [
  {
   "cell_type": "code",
   "execution_count": null,
   "metadata": {},
   "outputs": [],
   "source": []
  }
 ],
 "metadata": {
  "interpreter": {
   "hash": "1b75faab6b1d47f8b7f012bdeed139d6f1e7b6ea77a0febf5f69fbff68430ad6"
  },
  "kernelspec": {
   "display_name": "Python 3.10.13 ('tulu')",
   "language": "python",
   "name": "python3"
  },
  "language_info": {
   "name": "python",
   "version": "3.10.13"
  },
  "orig_nbformat": 4
 },
 "nbformat": 4,
 "nbformat_minor": 2
}
